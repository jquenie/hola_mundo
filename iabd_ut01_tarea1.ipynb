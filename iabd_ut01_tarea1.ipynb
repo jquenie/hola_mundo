{
  "nbformat": 4,
  "nbformat_minor": 0,
  "metadata": {
    "colab": {
      "provenance": []
    },
    "kernelspec": {
      "name": "python3",
      "display_name": "Python 3"
    },
    "language_info": {
      "name": "python"
    }
  },
  "cells": [
    {
      "cell_type": "markdown",
      "source": [
        "#Juan Pablo Quesada Nieves"
      ],
      "metadata": {
        "id": "duvaxUd9TKqF"
      }
    },
    {
      "cell_type": "markdown",
      "source": [
        "b. Crea la lista de nombre **tenistas** con los siguientes elementos: **Novak Djokovic, Rafael Nadal, Roger Federer, Pete Sampras, Roy Emerson**. Imprime por pantalla la lista."
      ],
      "metadata": {
        "id": "PWVX-Qcsaps1"
      }
    },
    {
      "cell_type": "code",
      "source": [
        "tenistas=['Novak Djokovic', 'Rafael Nadal', 'Roger Federer', 'Pete Sampras', 'Roy Emerson']\n",
        "print(tenistas)"
      ],
      "metadata": {
        "colab": {
          "base_uri": "https://localhost:8080/"
        },
        "id": "2R7mkU4_XJsl",
        "outputId": "35e53c7b-aea1-4a3a-dbf2-d7ec8bbbf37b"
      },
      "execution_count": 1,
      "outputs": [
        {
          "output_type": "stream",
          "name": "stdout",
          "text": [
            "['Novak Djokovic', 'Rafael Nadal', 'Roger Federer', 'Pete Sampras', 'Roy Emerson']\n"
          ]
        }
      ]
    },
    {
      "cell_type": "markdown",
      "source": [
        "c. Crea la lista de nombre **grand_slams** con los siguientes elementos: **24, 22, 20, 14, 12**. Imprime por pantalla la lista."
      ],
      "metadata": {
        "id": "MxGP_IpibG8f"
      }
    },
    {
      "cell_type": "code",
      "source": [
        "grand_slams=[24, 22, 20, 14, 12]\n",
        "print(grand_slams)"
      ],
      "metadata": {
        "colab": {
          "base_uri": "https://localhost:8080/"
        },
        "id": "LN9LFpMtXZCZ",
        "outputId": "b01aeaee-7791-4a20-fbe6-44ef511be20d"
      },
      "execution_count": 3,
      "outputs": [
        {
          "output_type": "stream",
          "name": "stdout",
          "text": [
            "[24, 22, 20, 14, 12]\n"
          ]
        }
      ]
    },
    {
      "cell_type": "markdown",
      "source": [
        "d. Crea un diccionario de nombre **dict** donde la clave de cada elemento sea el nombre de un tenista y su valor el número de Grand Slams ganados. Imprime por pantalla el diccionario."
      ],
      "metadata": {
        "id": "DURob6Qpbt6l"
      }
    },
    {
      "cell_type": "code",
      "source": [
        "dict=dict(zip(tenistas, grand_slams))\n",
        "print(dict)"
      ],
      "metadata": {
        "colab": {
          "base_uri": "https://localhost:8080/"
        },
        "id": "2FPGomy5Xd-F",
        "outputId": "088f8748-00a4-4980-9b6e-1ff0d7538925"
      },
      "execution_count": 5,
      "outputs": [
        {
          "output_type": "stream",
          "name": "stdout",
          "text": [
            "{'Novak Djokovic': 24, 'Rafael Nadal': 22, 'Roger Federer': 20, 'Pete Sampras': 14, 'Roy Emerson': 12}\n"
          ]
        }
      ]
    },
    {
      "cell_type": "markdown",
      "source": [
        "e. Escribe las sentencias Python necesarias para mostrar los datos del diccionario **dict** en la forma **Nombre del jugador: X Grand Slams ganados.** El resultado debería ser como sigue:\n",
        "\n",
        "Novak Djokovic: 24 Grand Slams ganados.\n",
        "\n",
        "Rafael Nadal: 22 Grand Slams ganados.\n",
        "\n",
        "...\n",
        "\n"
      ],
      "metadata": {
        "id": "f8bwQgplb3Gj"
      }
    },
    {
      "cell_type": "code",
      "source": [
        "for tenista, ngs in dict.items():\n",
        "  print(\"{}: {} Grand Slams ganados.\".format(tenista, ngs))"
      ],
      "metadata": {
        "colab": {
          "base_uri": "https://localhost:8080/"
        },
        "id": "mja5WNGmYJew",
        "outputId": "7e97431d-4e04-4dab-a885-89ea62c37970"
      },
      "execution_count": 11,
      "outputs": [
        {
          "output_type": "stream",
          "name": "stdout",
          "text": [
            "Novak Djokovic: 24 Grand Slams ganados.\n",
            "Rafael Nadal: 22 Grand Slams ganados.\n",
            "Roger Federer: 20 Grand Slams ganados.\n",
            "Pete Sampras: 14 Grand Slams ganados.\n",
            "Roy Emerson: 12 Grand Slams ganados.\n"
          ]
        }
      ]
    }
  ]
}